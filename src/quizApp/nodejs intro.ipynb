{
 "cells": [
  {
   "cell_type": "markdown",
   "metadata": {},
   "source": [
    "# introduction to node js\n",
    "\n",
    "Node.js is an open source server environment.\n",
    "\n",
    "Node.js allows you to run JavaScript on the server.\n",
    "\n",
    "## What is Node.js?\n",
    "* Node.js is an open source server environment\n",
    "* Node.js is free\n",
    "* Node.js runs on various platforms (Windows, Linux, Unix, Mac OS X, etc.)\n",
    "* Node.js uses JavaScript on the server"
   ]
  },
  {
   "cell_type": "markdown",
   "metadata": {},
   "source": [
    "What Can Node.js Do?\n",
    "Node.js can generate dynamic page content\n",
    "Node.js can create, open, read, write, delete, and close files on the server\n",
    "Node.js can collect form data\n",
    "Node.js can add, delete, modify data in your database\n",
    "\n",
    "What is a Node.js File?\n",
    "Node.js files contain tasks that will be executed on certain events\n",
    "A typical event is someone trying to access a port on the server\n",
    "Node.js files must be initiated on the server before having any effect\n",
    "Node.js files have extension \".js\"\n"
   ]
  },
  {
   "cell_type": "code",
   "execution_count": null,
   "metadata": {},
   "outputs": [],
   "source": []
  }
 ],
 "metadata": {
  "language_info": {
   "name": "python"
  }
 },
 "nbformat": 4,
 "nbformat_minor": 2
}
